{
 "cells": [
  {
   "cell_type": "markdown",
   "id": "dd35de50-68f9-49f6-bfb1-5c78a115e067",
   "metadata": {},
   "source": [
    "Q1. What is regularization in the context of deep learning? Why it is important?"
   ]
  },
  {
   "cell_type": "markdown",
   "id": "76314afc-cc1c-40be-a87b-9f4d2cf97a4a",
   "metadata": {},
   "source": [
    " In the context of deep learning, regularization refers to a set of techniques used to prevent a neural network from overfitting to the training data. Overfitting occurs when a model learns to perform well on the training data but fails to generalize its performance to new, unseen data. Regularization methods aim to strike a balance between fitting the training data closely while avoiding the pitfalls of overfitting.\n",
    "\n",
    " Regularization is important in deep learning for several reasons:\n",
    "\n",
    "1. `Preventing Overfitting`: Deep neural networks have a large number of parameters, making them prone to memorizing noise in the training data. Regularization techniques introduce constraints on these parameters, reducing the model's complexity and thus its ability to fit noise.\n",
    "\n",
    "2. `Improving Generalization`: By reducing overfitting, regularization techniques help neural networks generalize better to new, unseen data. This is crucial for the model to perform well in real-world scenarios.\n",
    "\n",
    "3. `Handling Limited Data`: In cases where you have limited training data, regularization can be particularly helpful. It aids in learning a more robust model even with a smaller dataset.\n",
    "\n",
    "4. `Reducing Variance`: Regularization methods reduce the variance in the model's predictions, making the model's output more stable and consistent across different input samples.\n",
    "\n",
    " Common regularization techniques in deep learning include:\n",
    "\n",
    "1. `L1 and L2 Regularization`: These techniques add a penalty term to the loss function based on the magnitudes of the model's parameters. L1 regularization encourages some parameters to become exactly zero, effectively performing feature selection, while L2 regularization prefers smaller parameter values.\n",
    "\n",
    "2. `Dropout`: Dropout randomly sets a fraction of the neurons' outputs to zero during each training iteration. This prevents specific neurons from relying too heavily on others and promotes more robust feature learning.\n",
    "\n",
    "3. `Data Augmentation`: By applying random transformations to the training data, such as rotation, cropping, or flipping, data augmentation increases the diversity of the training data, helping the model generalize better.\n",
    "\n",
    "4. `Early Stopping`: Early stopping involves monitoring the model's performance on a validation set and stopping the training process when the performance starts to degrade. This prevents the model from continuing to learn noise from the training data.\n",
    "\n",
    "5. `Batch Normalization`: Batch normalization normalizes the activations of each layer within a mini-batch during training. This helps stabilize and speed up training, acting as a form of regularization.\n",
    "\n",
    "6. `Weight Decay`: Weight decay, often used in combination with L2 regularization, reduces the magnitudes of the model's weights during training, discouraging overly large weights.\n",
    "\n",
    " Each of these techniques introduces different forms of regularization, and their effectiveness may vary depending on the specific problem and dataset. The choice of regularization method should be based on empirical experimentation and an understanding of the underlying factors contributing to overfitting in the model.\n"
   ]
  },
  {
   "cell_type": "markdown",
   "id": "e96b9dec-a5d9-4be4-9238-38e5151326cf",
   "metadata": {},
   "source": [
    "Q2. Explain Bias Variance Tradeoff and how regularization helps in addressing this tradeoff"
   ]
  },
  {
   "cell_type": "markdown",
   "id": "8a41030b-8e61-4f95-96c1-df8b041827f6",
   "metadata": {},
   "source": [
    " The bias-variance tradeoff is a fundamental concept in machine learning and statistical modeling that illustrates the relationship between the model's ability to fit the training data (bias) and its ability to generalize to new, unseen data (variance). Balancing bias and variance is essential for creating models that perform well on both the training data and new data points.\n",
    "\n",
    "`Bias` refers to the error introduced by approximating a real-world problem, which may be complex, by a simplified model. A high bias model tends to make strong assumptions about the data, leading it to oversimplify the underlying patterns. This can result in the model consistently underperforming on both the training data and new data.\n",
    "\n",
    "`Variance` is the model's sensitivity to small fluctuations or noise in the training data. A high variance model captures the noise in the training data and fits it too closely, which can lead to overfitting. Overfitting occurs when the model performs well on the training data but poorly on new data due to the noise being memorized.\n",
    "\n",
    " The bias-variance tradeoff can be visualized as follows:\n",
    "\n",
    "- `High Bias, Low Variance`: A model with high bias and low variance tends to produce similar predictions across different datasets and is unlikely to overfit. However, it may fail to capture the underlying complexities of the data.\n",
    "\n",
    "- `Low Bias, High Variance`: A model with low bias and high variance can capture complex patterns in the data, but it's prone to overfitting and may not generalize well to new data.\n",
    "\n",
    "Regularization plays a crucial role in addressing the bias-variance tradeoff by introducing constraints on the model's complexity. Here's how it helps:\n",
    "\n",
    "1. `Bias Reduction`: Regularization techniques like L1 and L2 regularization and weight decay introduce penalties on the model's parameters. This encourages the model to simplify and reduces the risk of underfitting by controlling the model's capacity to fit the training data closely. Regularization helps strike a balance between fitting the data and capturing underlying patterns.\n",
    "\n",
    "2. `Variance Reduction`: Regularization methods reduce the magnitude of the model's parameters, preventing them from becoming too large and fitting noise in the training data. By constraining the parameter space, regularization helps to avoid overfitting and reduces the model's sensitivity to variations in the data.\n",
    "\n",
    "3. `Promoting Simplicity`: Regularization discourages the model from relying heavily on any single feature or parameter, promoting a more distributed and robust representation of the data. This leads to better generalization and reduces the chances of overfitting.\n",
    "\n",
    "4. `Stabilizing Learning`: Techniques like dropout and batch normalization, often considered forms of regularization, introduce noise or normalization during training, which helps the model converge to a more stable and generalizable solution.\n",
    "\n",
    " In summary, regularization is a powerful tool for managing the bias-variance tradeoff. It allows you to control the complexity of the model, prevent overfitting, and improve its generalization to new, unseen data by striking a balance between capturing underlying patterns and avoiding noise in the training data.\n",
    "\n",
    "---"
   ]
  },
  {
   "cell_type": "markdown",
   "id": "c4b834be-104a-43b7-b515-cb5339c81fe2",
   "metadata": {},
   "source": [
    "Q3. Describe concept of L1 and L2 regularization. How do they differ in terms of penalty calculation and their effects on model?"
   ]
  },
  {
   "cell_type": "markdown",
   "id": "0fbe0efd-9b7a-4909-95b6-02e748a6bddf",
   "metadata": {},
   "source": [
    " L1 (Lasso) and L2 (Ridge) regularization are two common techniques used to prevent overfitting in machine learning models by adding penalty terms to the loss function based on the magnitudes of the model's parameters. These regularization techniques encourage the model to have smaller parameter values, which helps in controlling the model's complexity and improving generalization.\n",
    "\n",
    " L1 Regularization (Lasso):\n",
    "\n",
    " In L1 regularization, the penalty term added to the loss function is proportional to the absolute values of the model's parameters. Mathematically, the L1 regularization term for a model with parameters θ is given by:\n",
    "\n",
    " L1 regularization term = λ * Σ|θ|\n",
    "\n",
    " Here, λ (lambda) is the regularization strength hyperparameter that determines how much the regularization term influences the overall loss. Larger values of λ lead to stronger regularization.\n",
    "\n",
    " Effect on the model:\n",
    "\n",
    "- L1 regularization encourages some of the model's parameters to become exactly zero. This results in a form of feature selection, as certain features become irrelevant to the model's predictions.\n",
    "- The sparsity introduced by L1 regularization can lead to simpler and more interpretable models, as only a subset of features is given importance.\n",
    "- L1 regularization can be particularly useful when dealing with high-dimensional data or when you suspect that many features are not informative.\n",
    "\n",
    " L2 Regularization (Ridge):\n",
    "\n",
    " In L2 regularization, the penalty term added to the loss function is proportional to the squared magnitudes of the model's parameters. Mathematically, the L2 regularization term for a model with parameters θ is given by:\n",
    "\n",
    " L2 regularization term = λ * Σθ^2\n",
    "\n",
    " Again, λ is the regularization strength hyperparameter.\n",
    "\n",
    " Effect on the model:\n",
    "\n",
    "- L2 regularization discourages the model's parameters from becoming too large, effectively limiting their influence on the predictions.\n",
    "- Unlike L1 regularization, L2 regularization rarely results in exactly zero parameters. Instead, it tends to shrink all parameter values towards zero.\n",
    "- L2 regularization can help in cases where you want to prevent any single feature from dominating the model's predictions, while still maintaining most features' contributions.\n",
    "\n",
    " Differences between L1 and L2 regularization:\n",
    "\n",
    "1. `Penalty Calculation`: L1 regularization uses the absolute values of the parameters, while L2 regularization uses the squared values. This leads to differences in the resulting regularization terms.\n",
    "\n",
    "2. `Sparsity vs. Shrinkage`: L1 regularization encourages sparsity by driving some parameters to exactly zero, while L2 regularization encourages parameter shrinkage towards zero without necessarily making them exactly zero.\n",
    "\n",
    "3. `Feature Selection`: L1 regularization can automatically perform feature selection by effectively excluding certain features from the model. L2 regularization tends to keep all features but reduces their influence.\n",
    "\n",
    "4. `Effect on Complexity`: L1 regularization generally results in a simpler model with fewer nonzero parameters. L2 regularization tends to create smoother and more balanced models.\n",
    "\n",
    " In summary, both L1 and L2 regularization techniques are effective in preventing overfitting by controlling the complexity of the model. The choice between them depends on the problem's characteristics, the desired trade-off between feature selection and parameter shrinkage, and the insights you have about the data and features."
   ]
  },
  {
   "cell_type": "markdown",
   "id": "976af83a-a476-4fbd-aac9-c883227e6ecf",
   "metadata": {},
   "source": [
    "Q4. Discuss the role of regularization in preventing overfitting and improving the generalization of deep learning models"
   ]
  },
  {
   "cell_type": "markdown",
   "id": "895a393f-c3e5-4296-8d77-dca2b5e9ea8e",
   "metadata": {},
   "source": [
    " Regularization plays a crucial role in preventing overfitting and improving the generalization of deep learning models. Deep neural networks are highly flexible and capable of fitting complex relationships in the training data, but this very flexibility can make them prone to overfitting, where the model memorizes noise in the training data rather than learning meaningful patterns. Regularization techniques help mitigate this issue by introducing constraints on the model's parameters and learning process.\n",
    "\n",
    " Here's how regularization contributes to preventing overfitting and enhancing generalization in deep learning models:\n",
    "\n",
    "1. `Parameter Control`: Regularization methods add penalty terms to the loss function based on the model's parameters. This discourages the parameters from taking very large values, effectively limiting the complexity of the model. Overly complex models are more likely to overfit, as they can fit noise and fluctuations in the training data.\n",
    "\n",
    "2. `Noise Reduction`: Neural networks can capture noise in the training data due to their high capacity to learn intricate details. Regularization techniques reduce the model's sensitivity to noise by dampening the impact of small fluctuations in the training data.\n",
    "\n",
    "3. `Feature Selection`: Some regularization techniques, like L1 regularization, can drive certain model parameters to exactly zero. This leads to automatic feature selection, where less relevant features are effectively ignored by the model. Ignoring irrelevant features helps the model focus on the most important patterns in the data.\n",
    "\n",
    "4. `Generalization to Unseen Data`: By controlling the model's complexity and discouraging overfitting, regularization techniques ensure that the model's learned representations are more likely to generalize to new, unseen data. A model that generalizes well is better equipped to make accurate predictions on real-world examples.\n",
    "\n",
    "5. `Robustness to Limited Data`: In cases where you have limited training data, regularization can be especially beneficial. It helps the model avoid fitting the noise present in small datasets, leading to a more reliable performance on unseen data.\n",
    "\n",
    "6. `Consistency Across Batches`: Techniques like dropout and batch normalization, considered forms of regularization, introduce stochasticity during training. This prevents the model from becoming too reliant on specific neurons or activations, leading to a more consistent and robust behavior across different batches of data.\n",
    "\n",
    "7. `Stable Learning`: Regularization methods often lead to smoother loss landscapes, which can help the optimization process during training. This stability aids the model in converging to better solutions without getting stuck in local minima.\n",
    "\n",
    "8. `Interpretable Models`: Regularization, particularly techniques like L1 regularization, can lead to sparser and more interpretable models by promoting the selection of important features. This can help in understanding the model's decision-making process.\n",
    "\n",
    " In summary, regularization acts as a safeguard against overfitting by constraining the model's complexity and encouraging the learning of more generalized patterns in the data. By preventing the model from fitting noise and irrelevant details, regularization enhances the model's ability to make accurate predictions on new, unseen data, making it an indispensable tool in improving the generalization of deep learning models.\n"
   ]
  },
  {
   "cell_type": "markdown",
   "id": "5cd8fb27-af37-4faa-8aad-e5c8a9b648da",
   "metadata": {},
   "source": [
    "Q5. Explain Dropout Regularization and how it works to reduce overfitting. Discuss the impact on model training and inference."
   ]
  },
  {
   "cell_type": "markdown",
   "id": "cea5c213-5998-49ff-ae1f-8815c5b00f85",
   "metadata": {},
   "source": [
    " Dropout regularization is a technique used to reduce overfitting in neural networks by randomly deactivating (dropping out) a fraction of neurons during each training iteration. The idea behind dropout is to prevent specific neurons from relying too heavily on others and encourage the network to learn more robust and generalized features. Dropout was introduced by Srivastava et al. in their 2014 paper \"Dropout: A Simple Way to Prevent Neural Networks from Overfitting.\"\n",
    "\n",
    " Here's how dropout regularization works and its impact on model training and inference:\n",
    "\n",
    " Dropout During Training:\n",
    "\n",
    "1. `Random Deactivation`: During each training iteration, dropout randomly deactivates a fraction (dropout rate) of neurons in a layer. This means that these deactivated neurons do not contribute to forward or backward propagation during that iteration.\n",
    "\n",
    "2. `Stochasticity`: The random deactivation of neurons introduces stochasticity or randomness into the training process. This helps in preventing neurons from co-adapting too much to specific features and encourages the network to learn more robust representations.\n",
    "\n",
    "3. `Scaling During Inference`: During inference (when making predictions), the dropout is usually turned off, and all neurons are active. However, to ensure that the expected output remains consistent between training and inference, the weights of the active neurons are scaled by the inverse of the dropout rate. This scaling ensures that the expected output remains the same, accounting for the dropout during training.\n",
    "\n",
    " Impact on Model Training:\n",
    "\n",
    "1. `Regularization`: Dropout acts as a form of regularization by preventing neurons from becoming overly specialized to specific patterns in the training data. This encourages the network to learn more generalized features and reduces the risk of overfitting.\n",
    "\n",
    "2. `Ensemble Effect`: Dropout can be interpreted as training multiple sub-networks with different subsets of neurons activated for each iteration. This ensemble effect helps the model to learn diverse representations and improve generalization.\n",
    "\n",
    "3. `Reduced Co-Adaptation`: The random deactivation of neurons disrupts co-adaptation, where certain neurons rely heavily on others. This reduces the chances of one neuron compensating for another's weaknesses and leads to more independent learning.\n",
    "\n",
    " Impact on Model Inference:\n",
    "\n",
    "During inference, when the model is making predictions:\n",
    "\n",
    "1. `No Dropout`: All neurons are active, and dropout is not applied. This ensures that the model uses all its learned features to make accurate predictions.\n",
    "\n",
    "2. `Scaling`: The weights of the active neurons are scaled by the inverse of the dropout rate to maintain consistent expected outputs between training and inference.\n",
    "\n",
    " Choosing Dropout Rate:\n",
    "\n",
    " The dropout rate, which determines the fraction of neurons to be dropped out, is a hyperparameter that needs to be set based on experimentation. Typically, dropout rates between 0.2 and 0.5 are common, but the optimal rate can vary depending on the architecture and dataset.\n",
    "\n",
    " In summary, dropout regularization is a powerful technique that helps prevent overfitting by introducing randomness during training. By forcing neurons to work independently and encouraging the learning of more robust features, dropout enhances the model's generalization capabilities. During inference, the scaling of weights ensures consistent behavior between training and prediction phases.\n"
   ]
  },
  {
   "cell_type": "markdown",
   "id": "dbef7709-0679-4c6a-8b68-f5aab1f44d4e",
   "metadata": {},
   "source": [
    "Q6. Describe the concept of Early Stopping as form of Regularization. How does it prevent overfitting during training process?"
   ]
  },
  {
   "cell_type": "markdown",
   "id": "64e5b233-b20c-4efc-bee5-82b22b393ce0",
   "metadata": {},
   "source": [
    " Early stopping is a regularization technique used in machine learning to prevent overfitting during the training process of a model. Overfitting occurs when a model learns to perform exceptionally well on the training data but doesn't generalize well to new, unseen data. Early stopping helps counteract this by monitoring the model's performance on a validation dataset and stopping the training process when the model's performance on the validation dataset starts to degrade, indicating that further training might lead to overfitting.\n",
    "\n",
    " Here's how early stopping works as a form of regularization and how it prevents overfitting:\n",
    "\n",
    "1. `Training and Validation Data`: During the training process, the dataset is typically divided into two parts: the training set and the validation set. The model is trained on the training set and evaluated on the validation set.\n",
    "\n",
    "2. `Monitoring Metrics`: A performance metric, such as accuracy, loss, or any other appropriate metric, is calculated on both the training and validation sets as the training progresses. The goal is to see how well the model is performing on both sets.\n",
    "\n",
    "3. `Early Stopping Criterion`: A key aspect of early stopping is the definition of a stopping criterion. This criterion determines when the training process should be stopped. It is often based on the performance of the model on the validation set. For example, if the validation loss starts to increase consistently over a certain number of epochs, this could be a sign that the model is starting to overfit.\n",
    "\n",
    "4. `Patience Parameter`: Early stopping involves a parameter called \"patience.\" Patience determines how many consecutive epochs the model's performance can degrade on the validation set before stopping the training. If the validation performance improves or remains relatively stable for a number of epochs equal to or greater than the patience value, the training continues. However, if the validation performance degrades for more than the patience value, the training is halted.\n",
    "\n",
    "5. `Preventing Overfitting`: Early stopping acts as a form of regularization by preventing the model from being trained for too many epochs, which can lead to it fitting the noise in the training data and becoming overly specialized to that data. By stopping the training when the validation performance deteriorates, the model's ability to generalize to new data is enhanced, since it doesn't get a chance to fine-tune itself to the idiosyncrasies of the training data.\n",
    "\n",
    " In summary, early stopping as a form of regularization helps prevent overfitting by keeping the model's training process in check. It ensures that the model doesn't continue training until it perfectly fits the training data, but instead halts the training when there are signs of potential overfitting, as indicated by degraded performance on the validation set. This strikes a balance between model complexity and generalization, leading to better performance on unseen data.\n"
   ]
  },
  {
   "cell_type": "markdown",
   "id": "05de2c50-8c5e-482e-b5a2-82282cdb8614",
   "metadata": {},
   "source": [
    "Q7. Explain the concept of BatchNormalization and its role as a form of regularization. How does Batch Normalization prevent overfitting?"
   ]
  },
  {
   "cell_type": "markdown",
   "id": "9b45dd57-9593-457d-b187-4d9302f78299",
   "metadata": {},
   "source": [
    " Batch Normalization is a technique used in neural networks to improve training stability and convergence speed by normalizing the activations within each layer of a neural network. It also has a regularizing effect that helps prevent overfitting. Let's break down the concept of Batch Normalization and how it serves as a form of regularization:\n",
    "\n",
    " Concept of Batch Normalization:\n",
    " In deep neural networks, during training, the distribution of activations within each layer can change as the network parameters get updated. This phenomenon is known as the \"internal covariate shift,\" and it can slow down training and make convergence more challenging. Batch Normalization aims to address this by normalizing the activations of each layer across a batch of training examples.\n",
    "\n",
    "The steps involved in Batch Normalization are as follows:\n",
    "1. For each mini-batch of training examples, calculate the mean and variance of the activations for each feature across the batch.\n",
    "2. Normalize the activations by subtracting the mean and dividing by the standard deviation.\n",
    "3. Scale and shift the normalized activations using learnable parameters (gamma and beta) to allow the model to recover any useful representation that might have been lost during normalization.\n",
    "4. Finally, the scaled and shifted activations are fed into the next layer of the network.\n",
    "\n",
    " Role as a Form of Regularization:\n",
    "Batch Normalization has a regularizing effect on the model, which helps prevent overfitting in the following ways:\n",
    "\n",
    "1. `Smoothing Effect:` By normalizing the activations within each batch, Batch Normalization reduces the impact of outliers and extreme activations. This helps prevent the model from overly adapting to noise in the data, which can lead to overfitting.\n",
    "\n",
    "2. `Reduced Internal Covariate Shift:` The normalization of activations helps stabilize the training process by reducing the internal covariate shift. This can lead to faster convergence and more stable training, which in turn can help prevent overfitting. When the network's weights are updated more gradually and consistently, the risk of overfitting is decreased.\n",
    "\n",
    "3. `Regularization Strength:` Batch Normalization introduces noise to the activations due to the mini-batch statistics used for normalization. This noise acts as a mild form of regularization by discouraging the model from becoming overly sensitive to specific instances in the training data.\n",
    "\n",
    "4. `Higher Learning Rates:` The normalization of activations allows for higher learning rates to be used during training without causing divergence. This enables the model to explore the parameter space more effectively, potentially leading to a better generalization of the model.\n",
    "\n",
    " In summary, Batch Normalization is a technique that improves training stability and convergence speed by normalizing activations within each layer of a neural network. Its regularizing effect helps prevent overfitting by smoothing the activations, reducing internal covariate shift, and introducing noise to the training process. This makes the training process more consistent, allows for higher learning rates, and encourages the model to generalize better to unseen data.\n"
   ]
  },
  {
   "cell_type": "markdown",
   "id": "8d89a6f7-e0f9-4ac1-91e2-648a44d5397b",
   "metadata": {},
   "source": [
    " Q8. Implement Dropout Regularization in deep learning model framework of your choice. Evaluate its impact on model performance and compare it with a model without dropout"
   ]
  },
  {
   "cell_type": "code",
   "execution_count": 1,
   "id": "c799aed2-9bd4-4223-9920-c062d1e686aa",
   "metadata": {},
   "outputs": [],
   "source": [
    "# Create a dummy dataset \n",
    "from sklearn.datasets import make_classification\n",
    "X, Y = make_classification(n_samples=6000, n_classes=3, n_features=30, n_informative=15, random_state=42)"
   ]
  },
  {
   "cell_type": "code",
   "execution_count": 2,
   "id": "9419c4f3-a19e-42e6-b3d0-7d72c4ec0611",
   "metadata": {},
   "outputs": [
    {
     "data": {
      "text/plain": [
       "array([[-1.44143883,  0.99759432,  0.64881894, ...,  0.26075709,\n",
       "        -2.4917032 , -0.52457062],\n",
       "       [-5.14274116,  2.44379509,  0.59681357, ..., -0.67343933,\n",
       "         2.13880873, -1.34828698],\n",
       "       [ 0.65562953, -1.84153079,  0.80405201, ..., -1.45272723,\n",
       "        -3.46992694,  1.12992925],\n",
       "       ...,\n",
       "       [ 4.12653393, -4.34701772, -0.2590811 , ..., -0.28741425,\n",
       "         7.28922344, -1.18100918],\n",
       "       [-0.71009863,  3.94052935,  1.83897001, ...,  3.29290311,\n",
       "         6.91505595,  0.80226731],\n",
       "       [ 1.24909105,  3.92319056, -0.05696048, ..., -2.61261051,\n",
       "        -3.21501144, -0.04845804]])"
      ]
     },
     "execution_count": 2,
     "metadata": {},
     "output_type": "execute_result"
    }
   ],
   "source": [
    "X"
   ]
  },
  {
   "cell_type": "code",
   "execution_count": 3,
   "id": "a9a9697c-3a63-494e-8e18-ba2bcf33a82e",
   "metadata": {},
   "outputs": [
    {
     "data": {
      "text/plain": [
       "array([2, 2, 0, ..., 1, 0, 2])"
      ]
     },
     "execution_count": 3,
     "metadata": {},
     "output_type": "execute_result"
    }
   ],
   "source": [
    "Y"
   ]
  },
  {
   "cell_type": "markdown",
   "id": "a910580b-0640-4065-a67d-c6cfbd98446d",
   "metadata": {},
   "source": [
    "Perform Train Test Split"
   ]
  },
  {
   "cell_type": "code",
   "execution_count": 4,
   "id": "50601398-9dbb-4d7b-ac79-62cd280705b4",
   "metadata": {},
   "outputs": [],
   "source": [
    "from sklearn.model_selection import train_test_split\n",
    "xtrain, xtest, ytrain, ytest = train_test_split(X,Y, test_size=0.2, random_state=42)"
   ]
  },
  {
   "cell_type": "code",
   "execution_count": 5,
   "id": "9fa9fcad-64f7-43d1-9f8e-0d0d81b0c9c8",
   "metadata": {},
   "outputs": [
    {
     "data": {
      "text/plain": [
       "(4800, 30)"
      ]
     },
     "execution_count": 5,
     "metadata": {},
     "output_type": "execute_result"
    }
   ],
   "source": [
    "xtrain.shape"
   ]
  },
  {
   "cell_type": "code",
   "execution_count": 6,
   "id": "a4afd5c5-cc51-4cdf-acfd-471ae4369cf4",
   "metadata": {},
   "outputs": [
    {
     "data": {
      "text/plain": [
       "(1200, 30)"
      ]
     },
     "execution_count": 6,
     "metadata": {},
     "output_type": "execute_result"
    }
   ],
   "source": [
    "xtest.shape"
   ]
  },
  {
   "cell_type": "markdown",
   "id": "4817afa6-20f9-4021-b727-67eed9f87d9f",
   "metadata": {},
   "source": [
    "Scaling the train and test data"
   ]
  },
  {
   "cell_type": "code",
   "execution_count": 7,
   "id": "d52ed621-f595-4809-b601-4f249de7cc2b",
   "metadata": {},
   "outputs": [],
   "source": [
    "from sklearn.preprocessing import StandardScaler\n",
    "scaler =  StandardScaler()\n",
    "xtrain = scaler.fit_transform(xtrain)\n",
    "xtest = scaler.transform(xtest)"
   ]
  },
  {
   "cell_type": "markdown",
   "id": "028b3003-17d7-4bc4-9631-551aba14d4a7",
   "metadata": {},
   "source": [
    "Converting y data to categorical"
   ]
  },
  {
   "cell_type": "code",
   "execution_count": 8,
   "id": "972e4c31-e51d-4cce-84a2-c74c9f80d720",
   "metadata": {},
   "outputs": [
    {
     "name": "stdout",
     "output_type": "stream",
     "text": [
      "WARNING:tensorflow:From C:\\Users\\tamra\\anaconda3\\Lib\\site-packages\\keras\\src\\losses.py:2976: The name tf.losses.sparse_softmax_cross_entropy is deprecated. Please use tf.compat.v1.losses.sparse_softmax_cross_entropy instead.\n",
      "\n"
     ]
    }
   ],
   "source": [
    "from keras.utils import to_categorical\n",
    "ytrain_cat = to_categorical(ytrain)\n",
    "ytest_cat = to_categorical(ytest)"
   ]
  },
  {
   "cell_type": "code",
   "execution_count": 9,
   "id": "a39abf50-477f-48b2-ba45-3bdd90904e1b",
   "metadata": {},
   "outputs": [
    {
     "data": {
      "text/plain": [
       "array([[0., 1., 0.],\n",
       "       [0., 0., 1.],\n",
       "       [1., 0., 0.],\n",
       "       ...,\n",
       "       [0., 0., 1.],\n",
       "       [1., 0., 0.],\n",
       "       [0., 0., 1.]], dtype=float32)"
      ]
     },
     "execution_count": 9,
     "metadata": {},
     "output_type": "execute_result"
    }
   ],
   "source": [
    "ytrain_cat"
   ]
  },
  {
   "cell_type": "code",
   "execution_count": 10,
   "id": "90fd269a-5705-499a-a156-5b0d2b1aca17",
   "metadata": {},
   "outputs": [
    {
     "data": {
      "text/plain": [
       "array([[1., 0., 0.],\n",
       "       [0., 0., 1.],\n",
       "       [0., 0., 1.],\n",
       "       ...,\n",
       "       [0., 0., 1.],\n",
       "       [1., 0., 0.],\n",
       "       [1., 0., 0.]], dtype=float32)"
      ]
     },
     "execution_count": 10,
     "metadata": {},
     "output_type": "execute_result"
    }
   ],
   "source": [
    "ytest_cat"
   ]
  },
  {
   "cell_type": "markdown",
   "id": "28d999de-ad7a-45d4-9ea5-43f46c4789be",
   "metadata": {},
   "source": [
    "Creating Model1 without dropout"
   ]
  },
  {
   "cell_type": "code",
   "execution_count": 11,
   "id": "91ebb7c2-1612-4a96-8ee5-32dc4bbc0713",
   "metadata": {},
   "outputs": [],
   "source": [
    "from keras.models import Sequential\n",
    "from keras.layers import Dense, Dropout"
   ]
  },
  {
   "cell_type": "code",
   "execution_count": 12,
   "id": "6a190389-40d8-4b18-a465-a0f14c734ea9",
   "metadata": {},
   "outputs": [
    {
     "name": "stdout",
     "output_type": "stream",
     "text": [
      "WARNING:tensorflow:From C:\\Users\\tamra\\anaconda3\\Lib\\site-packages\\keras\\src\\backend.py:873: The name tf.get_default_graph is deprecated. Please use tf.compat.v1.get_default_graph instead.\n",
      "\n"
     ]
    }
   ],
   "source": [
    "# Initialize the model\n",
    "model1 = Sequential()\n",
    "\n",
    "# Dense Layer 1\n",
    "model1.add(Dense(64, activation='relu',input_dim = xtrain.shape[1]))\n",
    "\n",
    "# Dense Layer 2\n",
    "model1.add(Dense(32,activation='relu'))\n",
    "\n",
    "# Output Layer\n",
    "model1.add(Dense(3,activation='softmax'))"
   ]
  },
  {
   "cell_type": "code",
   "execution_count": 13,
   "id": "5164c504-f354-4a8c-88e3-28ad7820d52b",
   "metadata": {},
   "outputs": [
    {
     "name": "stdout",
     "output_type": "stream",
     "text": [
      "Model: \"sequential\"\n",
      "_________________________________________________________________\n",
      " Layer (type)                Output Shape              Param #   \n",
      "=================================================================\n",
      " dense (Dense)               (None, 64)                1984      \n",
      "                                                                 \n",
      " dense_1 (Dense)             (None, 32)                2080      \n",
      "                                                                 \n",
      " dense_2 (Dense)             (None, 3)                 99        \n",
      "                                                                 \n",
      "=================================================================\n",
      "Total params: 4163 (16.26 KB)\n",
      "Trainable params: 4163 (16.26 KB)\n",
      "Non-trainable params: 0 (0.00 Byte)\n",
      "_________________________________________________________________\n"
     ]
    }
   ],
   "source": [
    "model1.summary()"
   ]
  },
  {
   "cell_type": "code",
   "execution_count": 14,
   "id": "b68279a3-1721-41dc-8da7-31e97e8ddda5",
   "metadata": {},
   "outputs": [
    {
     "name": "stdout",
     "output_type": "stream",
     "text": [
      "WARNING:tensorflow:From C:\\Users\\tamra\\anaconda3\\Lib\\site-packages\\keras\\src\\optimizers\\__init__.py:309: The name tf.train.Optimizer is deprecated. Please use tf.compat.v1.train.Optimizer instead.\n",
      "\n"
     ]
    }
   ],
   "source": [
    "model1.compile(optimizer='adam',loss='categorical_crossentropy',metrics=['accuracy'])"
   ]
  },
  {
   "cell_type": "code",
   "execution_count": 15,
   "id": "a54ada3e-0bf0-4914-adad-de9a586b20b3",
   "metadata": {},
   "outputs": [
    {
     "name": "stdout",
     "output_type": "stream",
     "text": [
      "Epoch 1/100\n",
      "WARNING:tensorflow:From C:\\Users\\tamra\\anaconda3\\Lib\\site-packages\\keras\\src\\utils\\tf_utils.py:492: The name tf.ragged.RaggedTensorValue is deprecated. Please use tf.compat.v1.ragged.RaggedTensorValue instead.\n",
      "\n",
      "WARNING:tensorflow:From C:\\Users\\tamra\\anaconda3\\Lib\\site-packages\\keras\\src\\engine\\base_layer_utils.py:384: The name tf.executing_eagerly_outside_functions is deprecated. Please use tf.compat.v1.executing_eagerly_outside_functions instead.\n",
      "\n",
      "120/120 [==============================] - 2s 6ms/step - loss: 0.9244 - accuracy: 0.5651 - val_loss: 0.7159 - val_accuracy: 0.6990\n",
      "Epoch 2/100\n",
      "120/120 [==============================] - 0s 3ms/step - loss: 0.6411 - accuracy: 0.7339 - val_loss: 0.5556 - val_accuracy: 0.7740\n",
      "Epoch 3/100\n",
      "120/120 [==============================] - 0s 3ms/step - loss: 0.5091 - accuracy: 0.8016 - val_loss: 0.4706 - val_accuracy: 0.8042\n",
      "Epoch 4/100\n",
      "120/120 [==============================] - 0s 3ms/step - loss: 0.4196 - accuracy: 0.8383 - val_loss: 0.4132 - val_accuracy: 0.8323\n",
      "Epoch 5/100\n",
      "120/120 [==============================] - 0s 4ms/step - loss: 0.3520 - accuracy: 0.8734 - val_loss: 0.3649 - val_accuracy: 0.8521\n",
      "Epoch 6/100\n",
      "120/120 [==============================] - 0s 4ms/step - loss: 0.3018 - accuracy: 0.8956 - val_loss: 0.3254 - val_accuracy: 0.8792\n",
      "Epoch 7/100\n",
      "120/120 [==============================] - 0s 4ms/step - loss: 0.2599 - accuracy: 0.9120 - val_loss: 0.3081 - val_accuracy: 0.8833\n",
      "Epoch 8/100\n",
      "120/120 [==============================] - 0s 4ms/step - loss: 0.2322 - accuracy: 0.9266 - val_loss: 0.2857 - val_accuracy: 0.8969\n",
      "Epoch 9/100\n",
      "120/120 [==============================] - 0s 4ms/step - loss: 0.2096 - accuracy: 0.9378 - val_loss: 0.2773 - val_accuracy: 0.8927\n",
      "Epoch 10/100\n",
      "120/120 [==============================] - 0s 4ms/step - loss: 0.1903 - accuracy: 0.9388 - val_loss: 0.2653 - val_accuracy: 0.9000\n",
      "Epoch 11/100\n",
      "120/120 [==============================] - 0s 3ms/step - loss: 0.1743 - accuracy: 0.9495 - val_loss: 0.2659 - val_accuracy: 0.8990\n",
      "Epoch 12/100\n",
      "120/120 [==============================] - 0s 2ms/step - loss: 0.1641 - accuracy: 0.9526 - val_loss: 0.2512 - val_accuracy: 0.9073\n",
      "Epoch 13/100\n",
      "120/120 [==============================] - 0s 3ms/step - loss: 0.1498 - accuracy: 0.9560 - val_loss: 0.2585 - val_accuracy: 0.9104\n",
      "Epoch 14/100\n",
      "120/120 [==============================] - 0s 2ms/step - loss: 0.1402 - accuracy: 0.9646 - val_loss: 0.2451 - val_accuracy: 0.9146\n",
      "Epoch 15/100\n",
      "120/120 [==============================] - 0s 3ms/step - loss: 0.1279 - accuracy: 0.9695 - val_loss: 0.2499 - val_accuracy: 0.9135\n",
      "Epoch 16/100\n",
      "120/120 [==============================] - 0s 2ms/step - loss: 0.1193 - accuracy: 0.9727 - val_loss: 0.2575 - val_accuracy: 0.9115\n",
      "Epoch 17/100\n",
      "120/120 [==============================] - 0s 3ms/step - loss: 0.1124 - accuracy: 0.9714 - val_loss: 0.2573 - val_accuracy: 0.9094\n",
      "Epoch 18/100\n",
      "120/120 [==============================] - 0s 3ms/step - loss: 0.1056 - accuracy: 0.9747 - val_loss: 0.2484 - val_accuracy: 0.9094\n",
      "Epoch 19/100\n",
      "120/120 [==============================] - 0s 2ms/step - loss: 0.0979 - accuracy: 0.9792 - val_loss: 0.2451 - val_accuracy: 0.9104\n",
      "Epoch 20/100\n",
      "120/120 [==============================] - 0s 3ms/step - loss: 0.0924 - accuracy: 0.9818 - val_loss: 0.2487 - val_accuracy: 0.9135\n",
      "Epoch 21/100\n",
      "120/120 [==============================] - 0s 2ms/step - loss: 0.0863 - accuracy: 0.9836 - val_loss: 0.2525 - val_accuracy: 0.9115\n",
      "Epoch 22/100\n",
      "120/120 [==============================] - 0s 3ms/step - loss: 0.0782 - accuracy: 0.9857 - val_loss: 0.2545 - val_accuracy: 0.9125\n",
      "Epoch 23/100\n",
      "120/120 [==============================] - 0s 4ms/step - loss: 0.0741 - accuracy: 0.9885 - val_loss: 0.2672 - val_accuracy: 0.9094\n",
      "Epoch 24/100\n",
      "120/120 [==============================] - 0s 3ms/step - loss: 0.0712 - accuracy: 0.9872 - val_loss: 0.2699 - val_accuracy: 0.9083\n",
      "Epoch 25/100\n",
      "120/120 [==============================] - 0s 3ms/step - loss: 0.0649 - accuracy: 0.9909 - val_loss: 0.2550 - val_accuracy: 0.9146\n",
      "Epoch 26/100\n",
      "120/120 [==============================] - 0s 3ms/step - loss: 0.0601 - accuracy: 0.9909 - val_loss: 0.2576 - val_accuracy: 0.9198\n",
      "Epoch 27/100\n",
      "120/120 [==============================] - 0s 3ms/step - loss: 0.0569 - accuracy: 0.9911 - val_loss: 0.2713 - val_accuracy: 0.9094\n",
      "Epoch 28/100\n",
      "120/120 [==============================] - 0s 2ms/step - loss: 0.0520 - accuracy: 0.9937 - val_loss: 0.2848 - val_accuracy: 0.9104\n",
      "Epoch 29/100\n",
      "120/120 [==============================] - 0s 3ms/step - loss: 0.0485 - accuracy: 0.9948 - val_loss: 0.2676 - val_accuracy: 0.9187\n",
      "Epoch 30/100\n",
      "120/120 [==============================] - 0s 3ms/step - loss: 0.0457 - accuracy: 0.9951 - val_loss: 0.2767 - val_accuracy: 0.9135\n",
      "Epoch 31/100\n",
      "120/120 [==============================] - 0s 3ms/step - loss: 0.0428 - accuracy: 0.9951 - val_loss: 0.2878 - val_accuracy: 0.9083\n",
      "Epoch 32/100\n",
      "120/120 [==============================] - 0s 3ms/step - loss: 0.0386 - accuracy: 0.9958 - val_loss: 0.2810 - val_accuracy: 0.9115\n",
      "Epoch 33/100\n",
      "120/120 [==============================] - 0s 2ms/step - loss: 0.0352 - accuracy: 0.9966 - val_loss: 0.2971 - val_accuracy: 0.9146\n",
      "Epoch 34/100\n",
      "120/120 [==============================] - 0s 2ms/step - loss: 0.0327 - accuracy: 0.9964 - val_loss: 0.3005 - val_accuracy: 0.9156\n",
      "Epoch 35/100\n",
      "120/120 [==============================] - 0s 3ms/step - loss: 0.0305 - accuracy: 0.9964 - val_loss: 0.2955 - val_accuracy: 0.9104\n",
      "Epoch 36/100\n",
      "120/120 [==============================] - 0s 3ms/step - loss: 0.0275 - accuracy: 0.9958 - val_loss: 0.3033 - val_accuracy: 0.9062\n",
      "Epoch 37/100\n",
      "120/120 [==============================] - 0s 4ms/step - loss: 0.0255 - accuracy: 0.9969 - val_loss: 0.3436 - val_accuracy: 0.9031\n",
      "Epoch 38/100\n",
      "120/120 [==============================] - 0s 3ms/step - loss: 0.0217 - accuracy: 0.9979 - val_loss: 0.3297 - val_accuracy: 0.9146\n",
      "Epoch 39/100\n",
      "120/120 [==============================] - 0s 3ms/step - loss: 0.0200 - accuracy: 0.9982 - val_loss: 0.3342 - val_accuracy: 0.9094\n",
      "Epoch 40/100\n",
      "120/120 [==============================] - 0s 3ms/step - loss: 0.0164 - accuracy: 0.9982 - val_loss: 0.3354 - val_accuracy: 0.9146\n",
      "Epoch 41/100\n",
      "120/120 [==============================] - 0s 3ms/step - loss: 0.0147 - accuracy: 0.9995 - val_loss: 0.3350 - val_accuracy: 0.9094\n",
      "Epoch 42/100\n",
      "120/120 [==============================] - 0s 3ms/step - loss: 0.0144 - accuracy: 0.9992 - val_loss: 0.3483 - val_accuracy: 0.9115\n",
      "Epoch 43/100\n",
      "120/120 [==============================] - 0s 3ms/step - loss: 0.0127 - accuracy: 0.9995 - val_loss: 0.3480 - val_accuracy: 0.9135\n",
      "Epoch 44/100\n",
      "120/120 [==============================] - 0s 4ms/step - loss: 0.0106 - accuracy: 0.9995 - val_loss: 0.3696 - val_accuracy: 0.9156\n",
      "Epoch 45/100\n",
      "120/120 [==============================] - 0s 3ms/step - loss: 0.0099 - accuracy: 0.9997 - val_loss: 0.3716 - val_accuracy: 0.9094\n",
      "Epoch 46/100\n",
      "120/120 [==============================] - 0s 3ms/step - loss: 0.0088 - accuracy: 0.9997 - val_loss: 0.3771 - val_accuracy: 0.9062\n",
      "Epoch 47/100\n",
      "120/120 [==============================] - 0s 3ms/step - loss: 0.0084 - accuracy: 0.9997 - val_loss: 0.3797 - val_accuracy: 0.9135\n",
      "Epoch 48/100\n",
      "120/120 [==============================] - 0s 3ms/step - loss: 0.0079 - accuracy: 0.9997 - val_loss: 0.3859 - val_accuracy: 0.9125\n",
      "Epoch 49/100\n",
      "120/120 [==============================] - 0s 3ms/step - loss: 0.0065 - accuracy: 0.9997 - val_loss: 0.3887 - val_accuracy: 0.9104\n",
      "Epoch 50/100\n",
      "120/120 [==============================] - 0s 3ms/step - loss: 0.0058 - accuracy: 1.0000 - val_loss: 0.4041 - val_accuracy: 0.9115\n",
      "Epoch 51/100\n",
      "120/120 [==============================] - 0s 3ms/step - loss: 0.0053 - accuracy: 1.0000 - val_loss: 0.3960 - val_accuracy: 0.9073\n",
      "Epoch 52/100\n",
      "120/120 [==============================] - 0s 3ms/step - loss: 0.0048 - accuracy: 1.0000 - val_loss: 0.4149 - val_accuracy: 0.9115\n",
      "Epoch 53/100\n",
      "120/120 [==============================] - 0s 2ms/step - loss: 0.0043 - accuracy: 1.0000 - val_loss: 0.4083 - val_accuracy: 0.9104\n",
      "Epoch 54/100\n",
      "120/120 [==============================] - 0s 3ms/step - loss: 0.0040 - accuracy: 1.0000 - val_loss: 0.4205 - val_accuracy: 0.9125\n",
      "Epoch 55/100\n",
      "120/120 [==============================] - 0s 3ms/step - loss: 0.0037 - accuracy: 1.0000 - val_loss: 0.4232 - val_accuracy: 0.9083\n",
      "Epoch 56/100\n",
      "120/120 [==============================] - 0s 3ms/step - loss: 0.0034 - accuracy: 1.0000 - val_loss: 0.4419 - val_accuracy: 0.9115\n",
      "Epoch 57/100\n",
      "120/120 [==============================] - 0s 3ms/step - loss: 0.0031 - accuracy: 1.0000 - val_loss: 0.4358 - val_accuracy: 0.9104\n",
      "Epoch 58/100\n",
      "120/120 [==============================] - 0s 3ms/step - loss: 0.0028 - accuracy: 1.0000 - val_loss: 0.4427 - val_accuracy: 0.9083\n",
      "Epoch 59/100\n",
      "120/120 [==============================] - 0s 2ms/step - loss: 0.0026 - accuracy: 1.0000 - val_loss: 0.4546 - val_accuracy: 0.9104\n",
      "Epoch 60/100\n",
      "120/120 [==============================] - 0s 3ms/step - loss: 0.0024 - accuracy: 1.0000 - val_loss: 0.4597 - val_accuracy: 0.9125\n",
      "Epoch 61/100\n",
      "120/120 [==============================] - 0s 2ms/step - loss: 0.0021 - accuracy: 1.0000 - val_loss: 0.4586 - val_accuracy: 0.9115\n",
      "Epoch 62/100\n",
      "120/120 [==============================] - 0s 3ms/step - loss: 0.0020 - accuracy: 1.0000 - val_loss: 0.4730 - val_accuracy: 0.9115\n",
      "Epoch 63/100\n",
      "120/120 [==============================] - 0s 3ms/step - loss: 0.0018 - accuracy: 1.0000 - val_loss: 0.4724 - val_accuracy: 0.9115\n",
      "Epoch 64/100\n",
      "120/120 [==============================] - 0s 3ms/step - loss: 0.0017 - accuracy: 1.0000 - val_loss: 0.4758 - val_accuracy: 0.9115\n",
      "Epoch 65/100\n",
      "120/120 [==============================] - 0s 3ms/step - loss: 0.0015 - accuracy: 1.0000 - val_loss: 0.4800 - val_accuracy: 0.9104\n",
      "Epoch 66/100\n",
      "120/120 [==============================] - 0s 3ms/step - loss: 0.0014 - accuracy: 1.0000 - val_loss: 0.4868 - val_accuracy: 0.9125\n",
      "Epoch 67/100\n",
      "120/120 [==============================] - 0s 3ms/step - loss: 0.0013 - accuracy: 1.0000 - val_loss: 0.4922 - val_accuracy: 0.9125\n",
      "Epoch 68/100\n",
      "120/120 [==============================] - 0s 2ms/step - loss: 0.0012 - accuracy: 1.0000 - val_loss: 0.5050 - val_accuracy: 0.9031\n",
      "Epoch 69/100\n",
      "120/120 [==============================] - 0s 2ms/step - loss: 0.0011 - accuracy: 1.0000 - val_loss: 0.4984 - val_accuracy: 0.9094\n",
      "Epoch 70/100\n",
      "120/120 [==============================] - 0s 3ms/step - loss: 0.0010 - accuracy: 1.0000 - val_loss: 0.5093 - val_accuracy: 0.9094\n",
      "Epoch 71/100\n",
      "120/120 [==============================] - 0s 2ms/step - loss: 9.8359e-04 - accuracy: 1.0000 - val_loss: 0.5186 - val_accuracy: 0.9135\n",
      "Epoch 72/100\n",
      "120/120 [==============================] - 0s 2ms/step - loss: 8.7488e-04 - accuracy: 1.0000 - val_loss: 0.5214 - val_accuracy: 0.9104\n",
      "Epoch 73/100\n",
      "120/120 [==============================] - 0s 4ms/step - loss: 8.1378e-04 - accuracy: 1.0000 - val_loss: 0.5287 - val_accuracy: 0.9115\n",
      "Epoch 74/100\n",
      "120/120 [==============================] - 0s 3ms/step - loss: 7.4425e-04 - accuracy: 1.0000 - val_loss: 0.5298 - val_accuracy: 0.9104\n",
      "Epoch 75/100\n",
      "120/120 [==============================] - 0s 2ms/step - loss: 6.9661e-04 - accuracy: 1.0000 - val_loss: 0.5414 - val_accuracy: 0.9073\n",
      "Epoch 76/100\n",
      "120/120 [==============================] - 0s 2ms/step - loss: 6.2893e-04 - accuracy: 1.0000 - val_loss: 0.5387 - val_accuracy: 0.9094\n",
      "Epoch 77/100\n",
      "120/120 [==============================] - 0s 2ms/step - loss: 5.8342e-04 - accuracy: 1.0000 - val_loss: 0.5393 - val_accuracy: 0.9073\n",
      "Epoch 78/100\n",
      "120/120 [==============================] - 0s 2ms/step - loss: 5.4461e-04 - accuracy: 1.0000 - val_loss: 0.5596 - val_accuracy: 0.9073\n",
      "Epoch 79/100\n",
      "120/120 [==============================] - 0s 2ms/step - loss: 5.3106e-04 - accuracy: 1.0000 - val_loss: 0.5561 - val_accuracy: 0.9094\n",
      "Epoch 80/100\n",
      "120/120 [==============================] - 0s 3ms/step - loss: 4.6197e-04 - accuracy: 1.0000 - val_loss: 0.5627 - val_accuracy: 0.9104\n",
      "Epoch 81/100\n",
      "120/120 [==============================] - 0s 3ms/step - loss: 4.3006e-04 - accuracy: 1.0000 - val_loss: 0.5718 - val_accuracy: 0.9083\n",
      "Epoch 82/100\n",
      "120/120 [==============================] - 0s 2ms/step - loss: 4.0013e-04 - accuracy: 1.0000 - val_loss: 0.5755 - val_accuracy: 0.9083\n",
      "Epoch 83/100\n",
      "120/120 [==============================] - 0s 3ms/step - loss: 3.7644e-04 - accuracy: 1.0000 - val_loss: 0.5827 - val_accuracy: 0.9083\n",
      "Epoch 84/100\n",
      "120/120 [==============================] - 0s 3ms/step - loss: 3.5535e-04 - accuracy: 1.0000 - val_loss: 0.5869 - val_accuracy: 0.9073\n",
      "Epoch 85/100\n",
      "120/120 [==============================] - 0s 2ms/step - loss: 3.1718e-04 - accuracy: 1.0000 - val_loss: 0.5819 - val_accuracy: 0.9083\n",
      "Epoch 86/100\n",
      "120/120 [==============================] - 0s 2ms/step - loss: 2.9436e-04 - accuracy: 1.0000 - val_loss: 0.6005 - val_accuracy: 0.9083\n",
      "Epoch 87/100\n",
      "120/120 [==============================] - 0s 2ms/step - loss: 2.8022e-04 - accuracy: 1.0000 - val_loss: 0.6018 - val_accuracy: 0.9083\n",
      "Epoch 88/100\n",
      "120/120 [==============================] - 0s 3ms/step - loss: 2.5589e-04 - accuracy: 1.0000 - val_loss: 0.6052 - val_accuracy: 0.9104\n",
      "Epoch 89/100\n",
      "120/120 [==============================] - 0s 3ms/step - loss: 2.3742e-04 - accuracy: 1.0000 - val_loss: 0.6086 - val_accuracy: 0.9115\n",
      "Epoch 90/100\n",
      "120/120 [==============================] - 0s 3ms/step - loss: 2.2340e-04 - accuracy: 1.0000 - val_loss: 0.6056 - val_accuracy: 0.9062\n",
      "Epoch 91/100\n",
      "120/120 [==============================] - 0s 3ms/step - loss: 2.0598e-04 - accuracy: 1.0000 - val_loss: 0.6199 - val_accuracy: 0.9083\n",
      "Epoch 92/100\n",
      "120/120 [==============================] - 0s 2ms/step - loss: 1.9486e-04 - accuracy: 1.0000 - val_loss: 0.6206 - val_accuracy: 0.9115\n",
      "Epoch 93/100\n",
      "120/120 [==============================] - 0s 3ms/step - loss: 1.7827e-04 - accuracy: 1.0000 - val_loss: 0.6242 - val_accuracy: 0.9094\n",
      "Epoch 94/100\n",
      "120/120 [==============================] - 0s 3ms/step - loss: 1.7180e-04 - accuracy: 1.0000 - val_loss: 0.6353 - val_accuracy: 0.9073\n",
      "Epoch 95/100\n",
      "120/120 [==============================] - 0s 2ms/step - loss: 1.5439e-04 - accuracy: 1.0000 - val_loss: 0.6378 - val_accuracy: 0.9062\n",
      "Epoch 96/100\n",
      "120/120 [==============================] - 0s 3ms/step - loss: 1.4374e-04 - accuracy: 1.0000 - val_loss: 0.6407 - val_accuracy: 0.9073\n",
      "Epoch 97/100\n",
      "120/120 [==============================] - 0s 3ms/step - loss: 1.3542e-04 - accuracy: 1.0000 - val_loss: 0.6425 - val_accuracy: 0.9104\n",
      "Epoch 98/100\n",
      "120/120 [==============================] - 0s 4ms/step - loss: 1.2379e-04 - accuracy: 1.0000 - val_loss: 0.6547 - val_accuracy: 0.9083\n",
      "Epoch 99/100\n",
      "120/120 [==============================] - 0s 3ms/step - loss: 1.1476e-04 - accuracy: 1.0000 - val_loss: 0.6601 - val_accuracy: 0.9083\n",
      "Epoch 100/100\n",
      "120/120 [==============================] - 0s 3ms/step - loss: 1.0746e-04 - accuracy: 1.0000 - val_loss: 0.6594 - val_accuracy: 0.9062\n"
     ]
    }
   ],
   "source": [
    "hist1 = model1.fit(xtrain, ytrain_cat, epochs=100, validation_split=0.2)"
   ]
  },
  {
   "cell_type": "markdown",
   "id": "f6e6358d-d7da-4b1f-bad4-93920957ab15",
   "metadata": {},
   "source": [
    " Plot the learning curve"
   ]
  },
  {
   "cell_type": "code",
   "execution_count": 16,
   "id": "c15cf0ff-6eda-4717-b6d6-da1e0c3d951f",
   "metadata": {},
   "outputs": [],
   "source": [
    "import matplotlib.pyplot as plt\n",
    "def plot_learning_curve(hist):\n",
    "    plt.figure(figsize=(16,8))\n",
    "    plt.plot(hist.history['loss'],label='Training Loss')\n",
    "    plt.plot(hist.history['val_loss'],label='Validation Loss')\n",
    "    plt.xlabel('Epochs')\n",
    "    plt.ylabel('Categorical Crossentropy Loss')\n",
    "    plt.title('Learning Curve')\n",
    "    plt.legend()\n",
    "    plt.show()"
   ]
  },
  {
   "cell_type": "code",
   "execution_count": 17,
   "id": "463a6b17-9779-427b-9fa3-38306ca60270",
   "metadata": {},
   "outputs": [
    {
     "data": {
      "image/png": "[encoded data removed]",
      "text/plain": [
       "<Figure size 1600x800 with 1 Axes>"
      ]
     },
     "metadata": {},
     "output_type": "display_data"
    }
   ],
   "source": [
    "plot_learning_curve(hist1)"
   ]
  },
  {
   "cell_type": "markdown",
   "id": "ca0c6fa8-a61c-4cec-9ff9-c9557f1a67d7",
   "metadata": {},
   "source": [
    "Evaluate the model"
   ]
  },
  {
   "cell_type": "code",
   "execution_count": 18,
   "id": "548d18c3-efaa-4969-b4cb-5d1621db56ee",
   "metadata": {},
   "outputs": [
    {
     "name": "stdout",
     "output_type": "stream",
     "text": [
      "150/150 [==============================] - 0s 1ms/step - loss: 0.1320 - accuracy: 0.9812\n"
     ]
    }
   ],
   "source": [
    "# Training Evaluate\n",
    "tr_err1, tr_acc1 = model1.evaluate(xtrain, ytrain_cat)"
   ]
  },
  {
   "cell_type": "code",
   "execution_count": 19,
   "id": "84c641ae-9ce4-455e-9513-d64c0efbefeb",
   "metadata": {},
   "outputs": [
    {
     "name": "stdout",
     "output_type": "stream",
     "text": [
      "38/38 [==============================] - 0s 3ms/step - loss: 0.8132 - accuracy: 0.9042\n"
     ]
    }
   ],
   "source": [
    "# Testing evaluation\n",
    "ts_err1, ts_acc1 = model1.evaluate(xtest, ytest_cat)"
   ]
  },
  {
   "cell_type": "markdown",
   "id": "8e0daadb-045c-4677-9da2-8123a034cc32",
   "metadata": {},
   "source": [
    "Model 2 With Dropout Layer"
   ]
  },
  {
   "cell_type": "code",
   "execution_count": 20,
   "id": "dee76833-deef-4f79-a5b5-81ba8d03c1a2",
   "metadata": {},
   "outputs": [],
   "source": [
    "# Model 2 Initialize\n",
    "model2 = Sequential()\n",
    "\n",
    "# Dense Layer 1\n",
    "model2.add(Dense(64, activation='relu', input_dim=xtrain.shape[1]))\n",
    "\n",
    "# Dropout Layer 1\n",
    "model2.add(Dropout(0.3))\n",
    "\n",
    "# Dense Layer 2\n",
    "model2.add(Dense(32, activation='relu'))\n",
    "\n",
    "# Dropout Layer 2\n",
    "model2.add(Dropout(0.3))\n",
    "\n",
    "# Output Layer\n",
    "model2.add(Dense(3, activation='softmax'))"
   ]
  },
  {
   "cell_type": "code",
   "execution_count": 21,
   "id": "61445922-568b-47fb-9030-78edb06a062e",
   "metadata": {},
   "outputs": [
    {
     "name": "stdout",
     "output_type": "stream",
     "text": [
      "Model: \"sequential_1\"\n",
      "_________________________________________________________________\n",
      " Layer (type)                Output Shape              Param #   \n",
      "=================================================================\n",
      " dense_3 (Dense)             (None, 64)                1984      \n",
      "                                                                 \n",
      " dropout (Dropout)           (None, 64)                0         \n",
      "                                                                 \n",
      " dense_4 (Dense)             (None, 32)                2080      \n",
      "                                                                 \n",
      " dropout_1 (Dropout)         (None, 32)                0         \n",
      "                                                                 \n",
      " dense_5 (Dense)             (None, 3)                 99        \n",
      "                                                                 \n",
      "=================================================================\n",
      "Total params: 4163 (16.26 KB)\n",
      "Trainable params: 4163 (16.26 KB)\n",
      "Non-trainable params: 0 (0.00 Byte)\n",
      "_________________________________________________________________\n"
     ]
    }
   ],
   "source": [
    "model2.summary()"
   ]
  },
  {
   "cell_type": "code",
   "execution_count": 22,
   "id": "3bee4ba9-ea84-4418-bd8b-5ddfcff6ab69",
   "metadata": {},
   "outputs": [],
   "source": [
    "model2.compile(optimizer='adam', loss='binary_crossentropy', metrics=['accuracy'])"
   ]
  },
  {
   "cell_type": "code",
   "execution_count": 23,
   "id": "06f1c55d-7ce9-4c47-8e18-015d0af20dfc",
   "metadata": {},
   "outputs": [
    {
     "name": "stdout",
     "output_type": "stream",
     "text": [
      "Epoch 1/100\n",
      "120/120 [==============================] - 1s 5ms/step - loss: 0.6563 - accuracy: 0.4388 - val_loss: 0.5455 - val_accuracy: 0.6573\n",
      "Epoch 2/100\n",
      "120/120 [==============================] - 0s 4ms/step - loss: 0.5428 - accuracy: 0.5924 - val_loss: 0.4486 - val_accuracy: 0.7260\n",
      "Epoch 3/100\n",
      "120/120 [==============================] - 0s 3ms/step - loss: 0.4736 - accuracy: 0.6651 - val_loss: 0.3828 - val_accuracy: 0.7604\n",
      "Epoch 4/100\n",
      "120/120 [==============================] - 1s 4ms/step - loss: 0.4313 - accuracy: 0.7109 - val_loss: 0.3445 - val_accuracy: 0.7969\n",
      "Epoch 5/100\n",
      "120/120 [==============================] - 0s 4ms/step - loss: 0.4005 - accuracy: 0.7237 - val_loss: 0.3192 - val_accuracy: 0.8021\n",
      "Epoch 6/100\n",
      "120/120 [==============================] - 0s 3ms/step - loss: 0.3794 - accuracy: 0.7505 - val_loss: 0.2942 - val_accuracy: 0.8281\n",
      "Epoch 7/100\n",
      "120/120 [==============================] - 0s 3ms/step - loss: 0.3510 - accuracy: 0.7750 - val_loss: 0.2708 - val_accuracy: 0.8448\n",
      "Epoch 8/100\n",
      "120/120 [==============================] - 0s 3ms/step - loss: 0.3284 - accuracy: 0.7984 - val_loss: 0.2515 - val_accuracy: 0.8562\n",
      "Epoch 9/100\n",
      "120/120 [==============================] - 0s 4ms/step - loss: 0.3102 - accuracy: 0.8073 - val_loss: 0.2361 - val_accuracy: 0.8667\n",
      "Epoch 10/100\n",
      "120/120 [==============================] - 0s 3ms/step - loss: 0.2976 - accuracy: 0.8227 - val_loss: 0.2253 - val_accuracy: 0.8708\n",
      "Epoch 11/100\n",
      "120/120 [==============================] - 0s 3ms/step - loss: 0.2937 - accuracy: 0.8247 - val_loss: 0.2197 - val_accuracy: 0.8760\n",
      "Epoch 12/100\n",
      "120/120 [==============================] - 0s 3ms/step - loss: 0.2750 - accuracy: 0.8331 - val_loss: 0.2088 - val_accuracy: 0.8771\n",
      "Epoch 13/100\n",
      "120/120 [==============================] - 0s 3ms/step - loss: 0.2652 - accuracy: 0.8422 - val_loss: 0.2010 - val_accuracy: 0.8854\n",
      "Epoch 14/100\n",
      "120/120 [==============================] - 0s 3ms/step - loss: 0.2594 - accuracy: 0.8492 - val_loss: 0.1948 - val_accuracy: 0.8875\n",
      "Epoch 15/100\n",
      "120/120 [==============================] - 0s 4ms/step - loss: 0.2471 - accuracy: 0.8547 - val_loss: 0.1915 - val_accuracy: 0.8896\n",
      "Epoch 16/100\n",
      "120/120 [==============================] - 0s 3ms/step - loss: 0.2378 - accuracy: 0.8594 - val_loss: 0.1855 - val_accuracy: 0.8958\n",
      "Epoch 17/100\n",
      "120/120 [==============================] - 0s 3ms/step - loss: 0.2330 - accuracy: 0.8664 - val_loss: 0.1784 - val_accuracy: 0.8948\n",
      "Epoch 18/100\n",
      "120/120 [==============================] - 0s 4ms/step - loss: 0.2195 - accuracy: 0.8716 - val_loss: 0.1728 - val_accuracy: 0.9000\n",
      "Epoch 19/100\n",
      "120/120 [==============================] - 0s 3ms/step - loss: 0.2210 - accuracy: 0.8740 - val_loss: 0.1709 - val_accuracy: 0.8990\n",
      "Epoch 20/100\n",
      "120/120 [==============================] - 0s 2ms/step - loss: 0.2080 - accuracy: 0.8768 - val_loss: 0.1657 - val_accuracy: 0.8958\n",
      "Epoch 21/100\n",
      "120/120 [==============================] - 0s 3ms/step - loss: 0.2095 - accuracy: 0.8792 - val_loss: 0.1653 - val_accuracy: 0.8990\n",
      "Epoch 22/100\n",
      "120/120 [==============================] - 0s 2ms/step - loss: 0.2071 - accuracy: 0.8854 - val_loss: 0.1634 - val_accuracy: 0.8979\n",
      "Epoch 23/100\n",
      "120/120 [==============================] - 0s 4ms/step - loss: 0.2067 - accuracy: 0.8826 - val_loss: 0.1652 - val_accuracy: 0.9021\n",
      "Epoch 24/100\n",
      "120/120 [==============================] - 0s 3ms/step - loss: 0.1883 - accuracy: 0.8906 - val_loss: 0.1535 - val_accuracy: 0.9042\n",
      "Epoch 25/100\n",
      "120/120 [==============================] - 0s 3ms/step - loss: 0.1917 - accuracy: 0.8924 - val_loss: 0.1548 - val_accuracy: 0.9115\n",
      "Epoch 26/100\n",
      "120/120 [==============================] - 0s 3ms/step - loss: 0.1927 - accuracy: 0.8940 - val_loss: 0.1495 - val_accuracy: 0.9094\n",
      "Epoch 27/100\n",
      "120/120 [==============================] - 0s 2ms/step - loss: 0.1867 - accuracy: 0.8956 - val_loss: 0.1487 - val_accuracy: 0.9104\n",
      "Epoch 28/100\n",
      "120/120 [==============================] - 0s 2ms/step - loss: 0.1858 - accuracy: 0.8948 - val_loss: 0.1508 - val_accuracy: 0.9062\n",
      "Epoch 29/100\n",
      "120/120 [==============================] - 0s 4ms/step - loss: 0.1745 - accuracy: 0.8992 - val_loss: 0.1469 - val_accuracy: 0.9187\n",
      "Epoch 30/100\n",
      "120/120 [==============================] - 0s 4ms/step - loss: 0.1625 - accuracy: 0.9112 - val_loss: 0.1449 - val_accuracy: 0.9125\n",
      "Epoch 31/100\n",
      "120/120 [==============================] - 0s 3ms/step - loss: 0.1754 - accuracy: 0.9034 - val_loss: 0.1439 - val_accuracy: 0.9167\n",
      "Epoch 32/100\n",
      "120/120 [==============================] - 0s 3ms/step - loss: 0.1627 - accuracy: 0.9078 - val_loss: 0.1444 - val_accuracy: 0.9187\n",
      "Epoch 33/100\n",
      "120/120 [==============================] - 0s 3ms/step - loss: 0.1717 - accuracy: 0.9034 - val_loss: 0.1444 - val_accuracy: 0.9167\n",
      "Epoch 34/100\n",
      "120/120 [==============================] - 0s 2ms/step - loss: 0.1656 - accuracy: 0.9125 - val_loss: 0.1463 - val_accuracy: 0.9177\n",
      "Epoch 35/100\n",
      "120/120 [==============================] - 0s 3ms/step - loss: 0.1643 - accuracy: 0.9141 - val_loss: 0.1472 - val_accuracy: 0.9187\n",
      "Epoch 36/100\n",
      "120/120 [==============================] - 0s 3ms/step - loss: 0.1604 - accuracy: 0.9104 - val_loss: 0.1433 - val_accuracy: 0.9229\n",
      "Epoch 37/100\n",
      "120/120 [==============================] - 0s 4ms/step - loss: 0.1623 - accuracy: 0.9128 - val_loss: 0.1403 - val_accuracy: 0.9229\n",
      "Epoch 38/100\n",
      "120/120 [==============================] - 0s 2ms/step - loss: 0.1670 - accuracy: 0.9076 - val_loss: 0.1459 - val_accuracy: 0.9187\n",
      "Epoch 39/100\n",
      "120/120 [==============================] - 0s 2ms/step - loss: 0.1507 - accuracy: 0.9195 - val_loss: 0.1423 - val_accuracy: 0.9208\n",
      "Epoch 40/100\n",
      "120/120 [==============================] - 0s 3ms/step - loss: 0.1579 - accuracy: 0.9107 - val_loss: 0.1422 - val_accuracy: 0.9187\n",
      "Epoch 41/100\n",
      "120/120 [==============================] - 0s 3ms/step - loss: 0.1482 - accuracy: 0.9182 - val_loss: 0.1450 - val_accuracy: 0.9167\n",
      "Epoch 42/100\n",
      "120/120 [==============================] - 0s 2ms/step - loss: 0.1542 - accuracy: 0.9148 - val_loss: 0.1423 - val_accuracy: 0.9198\n",
      "Epoch 43/100\n",
      "120/120 [==============================] - 0s 3ms/step - loss: 0.1530 - accuracy: 0.9172 - val_loss: 0.1449 - val_accuracy: 0.9208\n",
      "Epoch 44/100\n",
      "120/120 [==============================] - 0s 3ms/step - loss: 0.1501 - accuracy: 0.9195 - val_loss: 0.1417 - val_accuracy: 0.9219\n",
      "Epoch 45/100\n",
      "120/120 [==============================] - 0s 3ms/step - loss: 0.1444 - accuracy: 0.9245 - val_loss: 0.1400 - val_accuracy: 0.9208\n",
      "Epoch 46/100\n",
      "120/120 [==============================] - 0s 2ms/step - loss: 0.1566 - accuracy: 0.9115 - val_loss: 0.1427 - val_accuracy: 0.9229\n",
      "Epoch 47/100\n",
      "120/120 [==============================] - 0s 2ms/step - loss: 0.1458 - accuracy: 0.9211 - val_loss: 0.1418 - val_accuracy: 0.9167\n",
      "Epoch 48/100\n",
      "120/120 [==============================] - 0s 2ms/step - loss: 0.1429 - accuracy: 0.9211 - val_loss: 0.1446 - val_accuracy: 0.9198\n",
      "Epoch 49/100\n",
      "120/120 [==============================] - 0s 3ms/step - loss: 0.1384 - accuracy: 0.9250 - val_loss: 0.1425 - val_accuracy: 0.9219\n",
      "Epoch 50/100\n",
      "120/120 [==============================] - 0s 3ms/step - loss: 0.1333 - accuracy: 0.9281 - val_loss: 0.1407 - val_accuracy: 0.9208\n",
      "Epoch 51/100\n",
      "120/120 [==============================] - 0s 3ms/step - loss: 0.1340 - accuracy: 0.9263 - val_loss: 0.1438 - val_accuracy: 0.9229\n",
      "Epoch 52/100\n",
      "120/120 [==============================] - 0s 2ms/step - loss: 0.1308 - accuracy: 0.9245 - val_loss: 0.1394 - val_accuracy: 0.9260\n",
      "Epoch 53/100\n",
      "120/120 [==============================] - 0s 4ms/step - loss: 0.1380 - accuracy: 0.9289 - val_loss: 0.1386 - val_accuracy: 0.9312\n",
      "Epoch 54/100\n",
      "120/120 [==============================] - 0s 3ms/step - loss: 0.1357 - accuracy: 0.9268 - val_loss: 0.1386 - val_accuracy: 0.9302\n",
      "Epoch 55/100\n",
      "120/120 [==============================] - 0s 3ms/step - loss: 0.1276 - accuracy: 0.9315 - val_loss: 0.1402 - val_accuracy: 0.9240\n",
      "Epoch 56/100\n",
      "120/120 [==============================] - 0s 3ms/step - loss: 0.1366 - accuracy: 0.9297 - val_loss: 0.1392 - val_accuracy: 0.9281\n",
      "Epoch 57/100\n",
      "120/120 [==============================] - 0s 3ms/step - loss: 0.1298 - accuracy: 0.9305 - val_loss: 0.1404 - val_accuracy: 0.9271\n",
      "Epoch 58/100\n",
      "120/120 [==============================] - 0s 3ms/step - loss: 0.1261 - accuracy: 0.9362 - val_loss: 0.1459 - val_accuracy: 0.9229\n",
      "Epoch 59/100\n",
      "120/120 [==============================] - 0s 3ms/step - loss: 0.1210 - accuracy: 0.9365 - val_loss: 0.1456 - val_accuracy: 0.9260\n",
      "Epoch 60/100\n",
      "120/120 [==============================] - 0s 3ms/step - loss: 0.1308 - accuracy: 0.9297 - val_loss: 0.1483 - val_accuracy: 0.9240\n",
      "Epoch 61/100\n",
      "120/120 [==============================] - 0s 2ms/step - loss: 0.1210 - accuracy: 0.9372 - val_loss: 0.1426 - val_accuracy: 0.9250\n",
      "Epoch 62/100\n",
      "120/120 [==============================] - 0s 2ms/step - loss: 0.1282 - accuracy: 0.9318 - val_loss: 0.1435 - val_accuracy: 0.9260\n",
      "Epoch 63/100\n",
      "120/120 [==============================] - 0s 2ms/step - loss: 0.1257 - accuracy: 0.9378 - val_loss: 0.1418 - val_accuracy: 0.9240\n",
      "Epoch 64/100\n",
      "120/120 [==============================] - 0s 2ms/step - loss: 0.1284 - accuracy: 0.9302 - val_loss: 0.1435 - val_accuracy: 0.9281\n",
      "Epoch 65/100\n",
      "120/120 [==============================] - 0s 2ms/step - loss: 0.1231 - accuracy: 0.9375 - val_loss: 0.1494 - val_accuracy: 0.9250\n",
      "Epoch 66/100\n",
      "120/120 [==============================] - 0s 3ms/step - loss: 0.1275 - accuracy: 0.9320 - val_loss: 0.1494 - val_accuracy: 0.9250\n",
      "Epoch 67/100\n",
      "120/120 [==============================] - 0s 3ms/step - loss: 0.1210 - accuracy: 0.9370 - val_loss: 0.1468 - val_accuracy: 0.9250\n",
      "Epoch 68/100\n",
      "120/120 [==============================] - 0s 3ms/step - loss: 0.1285 - accuracy: 0.9367 - val_loss: 0.1464 - val_accuracy: 0.9271\n",
      "Epoch 69/100\n",
      "120/120 [==============================] - 0s 2ms/step - loss: 0.1248 - accuracy: 0.9331 - val_loss: 0.1457 - val_accuracy: 0.9260\n",
      "Epoch 70/100\n",
      "120/120 [==============================] - 0s 3ms/step - loss: 0.1245 - accuracy: 0.9333 - val_loss: 0.1465 - val_accuracy: 0.9260\n",
      "Epoch 71/100\n",
      "120/120 [==============================] - 0s 2ms/step - loss: 0.1199 - accuracy: 0.9359 - val_loss: 0.1474 - val_accuracy: 0.9250\n",
      "Epoch 72/100\n",
      "120/120 [==============================] - 0s 2ms/step - loss: 0.1167 - accuracy: 0.9398 - val_loss: 0.1471 - val_accuracy: 0.9250\n",
      "Epoch 73/100\n",
      "120/120 [==============================] - 0s 3ms/step - loss: 0.1189 - accuracy: 0.9380 - val_loss: 0.1446 - val_accuracy: 0.9292\n",
      "Epoch 74/100\n",
      "120/120 [==============================] - 0s 3ms/step - loss: 0.1199 - accuracy: 0.9367 - val_loss: 0.1478 - val_accuracy: 0.9229\n",
      "Epoch 75/100\n",
      "120/120 [==============================] - 0s 3ms/step - loss: 0.1211 - accuracy: 0.9409 - val_loss: 0.1469 - val_accuracy: 0.9281\n",
      "Epoch 76/100\n",
      "120/120 [==============================] - 0s 3ms/step - loss: 0.1185 - accuracy: 0.9388 - val_loss: 0.1497 - val_accuracy: 0.9250\n",
      "Epoch 77/100\n",
      "120/120 [==============================] - 0s 3ms/step - loss: 0.1168 - accuracy: 0.9409 - val_loss: 0.1531 - val_accuracy: 0.9240\n",
      "Epoch 78/100\n",
      "120/120 [==============================] - 0s 3ms/step - loss: 0.1244 - accuracy: 0.9357 - val_loss: 0.1467 - val_accuracy: 0.9250\n",
      "Epoch 79/100\n",
      "120/120 [==============================] - 0s 4ms/step - loss: 0.1197 - accuracy: 0.9424 - val_loss: 0.1448 - val_accuracy: 0.9208\n",
      "Epoch 80/100\n",
      "120/120 [==============================] - 0s 3ms/step - loss: 0.1105 - accuracy: 0.9448 - val_loss: 0.1481 - val_accuracy: 0.9240\n",
      "Epoch 81/100\n",
      "120/120 [==============================] - 0s 2ms/step - loss: 0.1083 - accuracy: 0.9453 - val_loss: 0.1444 - val_accuracy: 0.9302\n",
      "Epoch 82/100\n",
      "120/120 [==============================] - 0s 4ms/step - loss: 0.1178 - accuracy: 0.9349 - val_loss: 0.1461 - val_accuracy: 0.9302\n",
      "Epoch 83/100\n",
      "120/120 [==============================] - 1s 4ms/step - loss: 0.1158 - accuracy: 0.9385 - val_loss: 0.1411 - val_accuracy: 0.9260\n",
      "Epoch 84/100\n",
      "120/120 [==============================] - 0s 4ms/step - loss: 0.1139 - accuracy: 0.9388 - val_loss: 0.1416 - val_accuracy: 0.9312\n",
      "Epoch 85/100\n",
      "120/120 [==============================] - 0s 4ms/step - loss: 0.1126 - accuracy: 0.9432 - val_loss: 0.1435 - val_accuracy: 0.9260\n",
      "Epoch 86/100\n",
      "120/120 [==============================] - 0s 3ms/step - loss: 0.1126 - accuracy: 0.9424 - val_loss: 0.1419 - val_accuracy: 0.9281\n",
      "Epoch 87/100\n",
      "120/120 [==============================] - 0s 3ms/step - loss: 0.1071 - accuracy: 0.9443 - val_loss: 0.1448 - val_accuracy: 0.9271\n",
      "Epoch 88/100\n",
      "120/120 [==============================] - 0s 3ms/step - loss: 0.1182 - accuracy: 0.9424 - val_loss: 0.1425 - val_accuracy: 0.9229\n",
      "Epoch 89/100\n",
      "120/120 [==============================] - 0s 3ms/step - loss: 0.1130 - accuracy: 0.9396 - val_loss: 0.1393 - val_accuracy: 0.9323\n",
      "Epoch 90/100\n",
      "120/120 [==============================] - 0s 3ms/step - loss: 0.1080 - accuracy: 0.9461 - val_loss: 0.1470 - val_accuracy: 0.9281\n",
      "Epoch 91/100\n",
      "120/120 [==============================] - 0s 3ms/step - loss: 0.1128 - accuracy: 0.9458 - val_loss: 0.1448 - val_accuracy: 0.9271\n",
      "Epoch 92/100\n",
      "120/120 [==============================] - 0s 4ms/step - loss: 0.1108 - accuracy: 0.9456 - val_loss: 0.1422 - val_accuracy: 0.9292\n",
      "Epoch 93/100\n",
      "120/120 [==============================] - 0s 3ms/step - loss: 0.1046 - accuracy: 0.9464 - val_loss: 0.1456 - val_accuracy: 0.9375\n",
      "Epoch 94/100\n",
      "120/120 [==============================] - 0s 4ms/step - loss: 0.1048 - accuracy: 0.9464 - val_loss: 0.1467 - val_accuracy: 0.9333\n",
      "Epoch 95/100\n",
      "120/120 [==============================] - 0s 3ms/step - loss: 0.1030 - accuracy: 0.9458 - val_loss: 0.1466 - val_accuracy: 0.9333\n",
      "Epoch 96/100\n",
      "120/120 [==============================] - 0s 3ms/step - loss: 0.1060 - accuracy: 0.9510 - val_loss: 0.1524 - val_accuracy: 0.9292\n",
      "Epoch 97/100\n",
      "120/120 [==============================] - 0s 4ms/step - loss: 0.1069 - accuracy: 0.9438 - val_loss: 0.1480 - val_accuracy: 0.9323\n",
      "Epoch 98/100\n",
      "120/120 [==============================] - 0s 2ms/step - loss: 0.1125 - accuracy: 0.9438 - val_loss: 0.1480 - val_accuracy: 0.9385\n",
      "Epoch 99/100\n",
      "120/120 [==============================] - 0s 2ms/step - loss: 0.1017 - accuracy: 0.9469 - val_loss: 0.1480 - val_accuracy: 0.9344\n",
      "Epoch 100/100\n",
      "120/120 [==============================] - 0s 2ms/step - loss: 0.1100 - accuracy: 0.9424 - val_loss: 0.1493 - val_accuracy: 0.9323\n"
     ]
    }
   ],
   "source": [
    "hist2 = model2.fit(xtrain, ytrain_cat, validation_split=0.2, epochs=100)"
   ]
  },
  {
   "cell_type": "markdown",
   "id": "8e11f602-7e2d-468b-ada0-c73f99edb7b3",
   "metadata": {},
   "source": [
    "Plot learning curve2"
   ]
  },
  {
   "cell_type": "code",
   "execution_count": 27,
   "id": "51d6b7ff-445d-4e06-9f05-618b79ce978b",
   "metadata": {},
   "outputs": [
    {
     "data": {
      "image/png": "[encoded data removed]",
      "text/plain": [
       "<Figure size 1600x800 with 1 Axes>"
      ]
     },
     "metadata": {},
     "output_type": "display_data"
    }
   ],
   "source": [
    "plot_learning_curve(hist2)"
   ]
  },
  {
   "cell_type": "markdown",
   "id": "2e5ff511-b3a0-4451-9914-0b4d18d20d16",
   "metadata": {},
   "source": [
    "Evaluate the data after dropout"
   ]
  },
  {
   "cell_type": "code",
   "execution_count": 28,
   "id": "072ee756-3da9-4bd9-ab19-86e8346cb368",
   "metadata": {},
   "outputs": [
    {
     "name": "stdout",
     "output_type": "stream",
     "text": [
      "150/150 [==============================] - 0s 2ms/step - loss: 0.0642 - accuracy: 0.9752\n"
     ]
    }
   ],
   "source": [
    "tr_err2, tr_acc2 = model2.evaluate(xtrain, ytrain_cat)"
   ]
  },
  {
   "cell_type": "code",
   "execution_count": 29,
   "id": "808e43d7-5840-47a1-80e9-17b4877b2820",
   "metadata": {},
   "outputs": [
    {
     "name": "stdout",
     "output_type": "stream",
     "text": [
      "38/38 [==============================] - 0s 3ms/step - loss: 0.1307 - accuracy: 0.9333\n"
     ]
    }
   ],
   "source": [
    "ts_err2, ts_acc2 = model2.evaluate(xtest, ytest_cat)"
   ]
  },
  {
   "cell_type": "markdown",
   "id": "c619c420-7afa-4c6a-90d7-e91ce03df47c",
   "metadata": {},
   "source": [
    "Predict train and test data for best model2 with dropout"
   ]
  },
  {
   "cell_type": "code",
   "execution_count": 30,
   "id": "951f7439-f594-401d-b805-0995325b0055",
   "metadata": {},
   "outputs": [
    {
     "name": "stdout",
     "output_type": "stream",
     "text": [
      "150/150 [==============================] - 0s 2ms/step\n",
      "38/38 [==============================] - 0s 2ms/step\n"
     ]
    }
   ],
   "source": [
    "yprob_tr = model2.predict(xtrain)\n",
    "yprob_ts = model2.predict(xtest)"
   ]
  },
  {
   "cell_type": "code",
   "execution_count": 31,
   "id": "a7a3ae54-eb43-4f8b-8798-726b15eb22a9",
   "metadata": {},
   "outputs": [],
   "source": [
    "import numpy as np\n",
    "ypred_tr = np.argmax(yprob_tr, axis=-1)\n",
    "ypred_ts = np.argmax(yprob_ts, axis=-1)"
   ]
  },
  {
   "cell_type": "code",
   "execution_count": 32,
   "id": "f6f4a460-ef06-4afa-bf9b-39ff5a3eb36f",
   "metadata": {},
   "outputs": [
    {
     "data": {
      "text/plain": [
       "array([1, 2, 0, 1, 1], dtype=int64)"
      ]
     },
     "execution_count": 32,
     "metadata": {},
     "output_type": "execute_result"
    }
   ],
   "source": [
    "ypred_tr[0:5]"
   ]
  },
  {
   "cell_type": "code",
   "execution_count": 33,
   "id": "b57aca82-53e2-420e-bda9-3af69cc8dec1",
   "metadata": {},
   "outputs": [
    {
     "data": {
      "text/plain": [
       "array([1, 2, 0, 1, 1])"
      ]
     },
     "execution_count": 33,
     "metadata": {},
     "output_type": "execute_result"
    }
   ],
   "source": [
    "ytrain[0:5]"
   ]
  },
  {
   "cell_type": "code",
   "execution_count": 34,
   "id": "af69fe31-8e8f-436f-b23e-2d1115177fce",
   "metadata": {},
   "outputs": [
    {
     "data": {
      "text/plain": [
       "array([0, 0, 2, 2, 0], dtype=int64)"
      ]
     },
     "execution_count": 34,
     "metadata": {},
     "output_type": "execute_result"
    }
   ],
   "source": [
    "ypred_ts[0:5]"
   ]
  },
  {
   "cell_type": "code",
   "execution_count": 35,
   "id": "ad447415-5e76-4e08-9d74-d4b2cda8ce49",
   "metadata": {},
   "outputs": [
    {
     "data": {
      "text/plain": [
       "array([0, 2, 2, 2, 2])"
      ]
     },
     "execution_count": 35,
     "metadata": {},
     "output_type": "execute_result"
    }
   ],
   "source": [
    "ytest[0:5]"
   ]
  },
  {
   "cell_type": "markdown",
   "id": "9de399f2-4c93-47ae-bfa0-81864a08041a",
   "metadata": {},
   "source": [
    "Confusion Matrix"
   ]
  },
  {
   "cell_type": "code",
   "execution_count": 36,
   "id": "2c024a6f-ccbb-4951-bf8b-6f4b84a8bbf9",
   "metadata": {},
   "outputs": [
    {
     "data": {
      "text/plain": [
       "<sklearn.metrics._plot.confusion_matrix.ConfusionMatrixDisplay at 0x266f36a5950>"
      ]
     },
     "execution_count": 36,
     "metadata": {},
     "output_type": "execute_result"
    },
    {
     "data": {
      "image/png": "[encoded data removed]",
      "text/plain": [
       "<Figure size 640x480 with 2 Axes>"
      ]
     },
     "metadata": {},
     "output_type": "display_data"
    }
   ],
   "source": [
    "from sklearn.metrics import confusion_matrix, ConfusionMatrixDisplay\n",
    "cf = confusion_matrix(ytest, ypred_ts)\n",
    "cfd = ConfusionMatrixDisplay(cf, display_labels=[0,1,2])\n",
    "cfd.plot()"
   ]
  },
  {
   "cell_type": "markdown",
   "id": "cac755ac-0a11-447f-a9ba-2f641b04d390",
   "metadata": {},
   "source": [
    "Classification Report"
   ]
  },
  {
   "cell_type": "code",
   "execution_count": 37,
   "id": "8ee57b0a-64bd-4f84-a5e1-cfa559c50342",
   "metadata": {},
   "outputs": [
    {
     "name": "stdout",
     "output_type": "stream",
     "text": [
      "              precision    recall  f1-score   support\n",
      "\n",
      "           0       0.91      0.93      0.92       405\n",
      "           1       0.95      0.95      0.95       403\n",
      "           2       0.94      0.92      0.93       392\n",
      "\n",
      "    accuracy                           0.93      1200\n",
      "   macro avg       0.93      0.93      0.93      1200\n",
      "weighted avg       0.93      0.93      0.93      1200\n",
      "\n"
     ]
    }
   ],
   "source": [
    "from sklearn.metrics import classification_report\n",
    "print(classification_report(ytest, ypred_ts))"
   ]
  },
  {
   "cell_type": "markdown",
   "id": "114f93d2-b279-4842-8ac5-83b920d2c32e",
   "metadata": {},
   "source": [
    " Compare Model with Dropout and without Dropout"
   ]
  },
  {
   "cell_type": "code",
   "execution_count": 38,
   "id": "fde73000-fc6b-440c-8f96-7c5efd3ffa05",
   "metadata": {},
   "outputs": [],
   "source": [
    "dct = {'Model':['Simple ANN', 'Dropout ANN'],\n",
    "       'train_loss':[tr_err1, tr_err2],\n",
    "       'test_loss':[ts_err1, ts_err2],\n",
    "       'train_accuracy':[tr_acc1, tr_acc2],\n",
    "       'test_accuracy':[ts_acc1, ts_acc2]}"
   ]
  },
  {
   "cell_type": "code",
   "execution_count": 39,
   "id": "06f495b7-2b07-458c-95bb-821c2347dfbe",
   "metadata": {},
   "outputs": [
    {
     "data": {
      "text/html": [
       "<div>\n",
       "<style scoped>\n",
       "    .dataframe tbody tr th:only-of-type {\n",
       "        vertical-align: middle;\n",
       "    }\n",
       "\n",
       "    .dataframe tbody tr th {\n",
       "        vertical-align: top;\n",
       "    }\n",
       "\n",
       "    .dataframe thead th {\n",
       "        text-align: right;\n",
       "    }\n",
       "</style>\n",
       "<table border=\"1\" class=\"dataframe\">\n",
       "  <thead>\n",
       "    <tr style=\"text-align: right;\">\n",
       "      <th></th>\n",
       "      <th>Model</th>\n",
       "      <th>train_loss</th>\n",
       "      <th>test_loss</th>\n",
       "      <th>train_accuracy</th>\n",
       "      <th>test_accuracy</th>\n",
       "    </tr>\n",
       "  </thead>\n",
       "  <tbody>\n",
       "    <tr>\n",
       "      <th>0</th>\n",
       "      <td>Simple ANN</td>\n",
       "      <td>0.131953</td>\n",
       "      <td>0.813248</td>\n",
       "      <td>0.981250</td>\n",
       "      <td>0.904167</td>\n",
       "    </tr>\n",
       "    <tr>\n",
       "      <th>1</th>\n",
       "      <td>Dropout ANN</td>\n",
       "      <td>0.064184</td>\n",
       "      <td>0.130737</td>\n",
       "      <td>0.975208</td>\n",
       "      <td>0.933333</td>\n",
       "    </tr>\n",
       "  </tbody>\n",
       "</table>\n",
       "</div>"
      ],
      "text/plain": [
       "         Model  train_loss  test_loss  train_accuracy  test_accuracy\n",
       "0   Simple ANN    0.131953   0.813248        0.981250       0.904167\n",
       "1  Dropout ANN    0.064184   0.130737        0.975208       0.933333"
      ]
     },
     "execution_count": 39,
     "metadata": {},
     "output_type": "execute_result"
    }
   ],
   "source": [
    "import pandas as pd\n",
    "eval_df = pd.DataFrame(dct)\n",
    "eval_df"
   ]
  },
  {
   "cell_type": "markdown",
   "id": "ce378492-e845-447a-8394-f21459e6d5c2",
   "metadata": {},
   "source": [
    " Above results clearly show that Dropout Layer helps in regularization"
   ]
  },
  {
   "cell_type": "markdown",
   "id": "1c795009-f360-4c08-ade6-383ab4d8954a",
   "metadata": {},
   "source": [
    " Q9. Discuss the considerations and tradeoffs when choosing the appropriate regularization technique for a given deep learning task."
   ]
  },
  {
   "cell_type": "markdown",
   "id": "457dd078-d01d-468f-a58a-487834697b30",
   "metadata": {},
   "source": [
    " Choosing the right regularization technique for a deep learning task requires careful consideration of various factors and trade-offs. Different regularization techniques have different effects on the model's performance, training speed, and generalization ability. Here are some key considerations and trade-offs to keep in mind when choosing an appropriate regularization technique:\n",
    "\n",
    "1. `Dataset Size:`\n",
    "   - `Small Dataset:` In cases of small datasets, regularization techniques that introduce additional constraints to the model, such as L1 or L2 regularization, can help prevent overfitting by reducing the model's complexity.\n",
    "   - `Large Dataset:` With larger datasets, more complex models might be suitable, and techniques like dropout and data augmentation can provide effective regularization.\n",
    "\n",
    "2. `Model Complexity:`\n",
    "   - `Complex Models:` Highly complex models with a large number of parameters are more prone to overfitting. Regularization techniques like dropout, batch normalization, and early stopping can help control their complexity.\n",
    "   - `Simpler Models:` Simpler models might not need aggressive regularization and could benefit from techniques that don't overly constrain the model, such as early stopping or using larger learning rates.\n",
    "\n",
    "3. `Type of Overfitting:`\n",
    "   - `Bias-Variance Trade-off:` If the model is experiencing high bias (underfitting), adding regularization might not be necessary. If it's experiencing high variance (overfitting), regularization techniques can help reduce this variance.\n",
    "\n",
    "4. `Model Architecture:`\n",
    "   - `Convolutional Neural Networks (CNNs):` Techniques like dropout and batch normalization are commonly used in CNNs to regularize activations and improve convergence.\n",
    "   - `Recurrent Neural Networks (RNNs):` Gradient clipping, recurrent dropout, and weight tying are techniques often used to regulate RNNs.\n",
    "\n",
    "5. `Training Speed and Convergence:`\n",
    "   - `Faster Convergence:` Techniques like batch normalization can accelerate convergence and stabilize training, allowing for faster model development.\n",
    "   - `Slower Convergence:` Techniques like dropout and weight decay might slow down training due to their stochastic nature or the additional constraints they impose.\n",
    "\n",
    "6. `Interpretability:`\n",
    "   - `Interpretability Required:` Regularization techniques like L1 regularization (Lasso) can lead to sparse models, which might be easier to interpret in some cases.\n",
    "   - `Not High Priority:` If interpretability is not a concern, other regularization techniques can be considered.\n",
    "\n",
    "7. `Domain Knowledge:`\n",
    "   - `Prior Knowledge:` Depending on domain knowledge, specific regularization techniques might be more suitable. For example, if you know certain features are less relevant, L1 regularization could be applied to encourage feature selection.\n",
    "\n",
    "8. `Hyperparameter Tuning:`\n",
    "   - `Sensitivity to Hyperparameters:` Some regularization techniques have hyperparameters that need to be tuned, such as the strength of regularization in L1 or L2 regularization. This requires additional tuning efforts.\n",
    "\n",
    "9. `Computational Resources:`\n",
    "   - `Resource Constraints:` Techniques like dropout and data augmentation might be more resource-intensive, as they involve modifications during training.\n",
    "\n",
    "10. `Ensemble Methods:`\n",
    "    - `Ensemble Regularization:` Techniques like dropout can be seen as a form of ensemble regularization, where the model is trained with multiple variations of itself.\n",
    "\n",
    "11. `Combining Techniques:`\n",
    "    - `Combining Regularization Techniques:` It's possible to use multiple regularization techniques simultaneously to achieve a stronger regularization effect, but this might require careful tuning and understanding of their interactions.\n",
    "\n",
    " In conclusion, the choice of regularization technique depends on the specifics of the problem, dataset, model architecture, and resources available. Experimentation and thorough understanding of the trade-offs involved are crucial for selecting the most appropriate regularization strategy to achieve better generalization and prevent overfitting."
   ]
  },
  {
   "cell_type": "code",
   "execution_count": null,
   "id": "5f8923a0-12ee-405e-9934-021dd17ea412",
   "metadata": {},
   "outputs": [],
   "source": []
  }
 ],
 "metadata": {
  "kernelspec": {
   "display_name": "Python 3 (ipykernel)",
   "language": "python",
   "name": "python3"
  },
  "language_info": {
   "codemirror_mode": {
    "name": "ipython",
    "version": 3
   },
   "file_extension": ".py",
   "mimetype": "text/x-python",
   "name": "python",
   "nbconvert_exporter": "python",
   "pygments_lexer": "ipython3",
   "version": "3.11.7"
  }
 },
 "nbformat": 4,
 "nbformat_minor": 5
}
